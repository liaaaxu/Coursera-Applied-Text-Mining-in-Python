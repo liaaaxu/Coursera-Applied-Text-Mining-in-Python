{
 "cells": [
  {
   "cell_type": "markdown",
   "metadata": {},
   "source": [
    "# Assignment 3\n",
    "\n",
    "In this assignment you will explore text message data and create models to predict if a message is spam or not. "
   ]
  },
  {
   "cell_type": "code",
   "execution_count": 1,
   "metadata": {},
   "outputs": [
    {
     "data": {
      "text/html": [
       "<div>\n",
       "<style>\n",
       "    .dataframe thead tr:only-child th {\n",
       "        text-align: right;\n",
       "    }\n",
       "\n",
       "    .dataframe thead th {\n",
       "        text-align: left;\n",
       "    }\n",
       "\n",
       "    .dataframe tbody tr th {\n",
       "        vertical-align: top;\n",
       "    }\n",
       "</style>\n",
       "<table border=\"1\" class=\"dataframe\">\n",
       "  <thead>\n",
       "    <tr style=\"text-align: right;\">\n",
       "      <th></th>\n",
       "      <th>text</th>\n",
       "      <th>target</th>\n",
       "    </tr>\n",
       "  </thead>\n",
       "  <tbody>\n",
       "    <tr>\n",
       "      <th>0</th>\n",
       "      <td>Go until jurong point, crazy.. Available only ...</td>\n",
       "      <td>0</td>\n",
       "    </tr>\n",
       "    <tr>\n",
       "      <th>1</th>\n",
       "      <td>Ok lar... Joking wif u oni...</td>\n",
       "      <td>0</td>\n",
       "    </tr>\n",
       "    <tr>\n",
       "      <th>2</th>\n",
       "      <td>Free entry in 2 a wkly comp to win FA Cup fina...</td>\n",
       "      <td>1</td>\n",
       "    </tr>\n",
       "    <tr>\n",
       "      <th>3</th>\n",
       "      <td>U dun say so early hor... U c already then say...</td>\n",
       "      <td>0</td>\n",
       "    </tr>\n",
       "    <tr>\n",
       "      <th>4</th>\n",
       "      <td>Nah I don't think he goes to usf, he lives aro...</td>\n",
       "      <td>0</td>\n",
       "    </tr>\n",
       "    <tr>\n",
       "      <th>5</th>\n",
       "      <td>FreeMsg Hey there darling it's been 3 week's n...</td>\n",
       "      <td>1</td>\n",
       "    </tr>\n",
       "    <tr>\n",
       "      <th>6</th>\n",
       "      <td>Even my brother is not like to speak with me. ...</td>\n",
       "      <td>0</td>\n",
       "    </tr>\n",
       "    <tr>\n",
       "      <th>7</th>\n",
       "      <td>As per your request 'Melle Melle (Oru Minnamin...</td>\n",
       "      <td>0</td>\n",
       "    </tr>\n",
       "    <tr>\n",
       "      <th>8</th>\n",
       "      <td>WINNER!! As a valued network customer you have...</td>\n",
       "      <td>1</td>\n",
       "    </tr>\n",
       "    <tr>\n",
       "      <th>9</th>\n",
       "      <td>Had your mobile 11 months or more? U R entitle...</td>\n",
       "      <td>1</td>\n",
       "    </tr>\n",
       "  </tbody>\n",
       "</table>\n",
       "</div>"
      ],
      "text/plain": [
       "                                                text  target\n",
       "0  Go until jurong point, crazy.. Available only ...       0\n",
       "1                      Ok lar... Joking wif u oni...       0\n",
       "2  Free entry in 2 a wkly comp to win FA Cup fina...       1\n",
       "3  U dun say so early hor... U c already then say...       0\n",
       "4  Nah I don't think he goes to usf, he lives aro...       0\n",
       "5  FreeMsg Hey there darling it's been 3 week's n...       1\n",
       "6  Even my brother is not like to speak with me. ...       0\n",
       "7  As per your request 'Melle Melle (Oru Minnamin...       0\n",
       "8  WINNER!! As a valued network customer you have...       1\n",
       "9  Had your mobile 11 months or more? U R entitle...       1"
      ]
     },
     "execution_count": 1,
     "metadata": {},
     "output_type": "execute_result"
    }
   ],
   "source": [
    "import pandas as pd\n",
    "import numpy as np\n",
    "\n",
    "spam_data = pd.read_csv('spam.csv')\n",
    "\n",
    "spam_data['target'] = np.where(spam_data['target']=='spam',1,0)\n",
    "spam_data.head(10)"
   ]
  },
  {
   "cell_type": "code",
   "execution_count": 2,
   "metadata": {
    "collapsed": true
   },
   "outputs": [],
   "source": [
    "from sklearn.model_selection import train_test_split\n",
    "\n",
    "\n",
    "X_train, X_test, y_train, y_test = train_test_split(spam_data['text'], \n",
    "                                                    spam_data['target'], \n",
    "                                                    random_state=0)"
   ]
  },
  {
   "cell_type": "markdown",
   "metadata": {},
   "source": [
    "### Question 1\n",
    "What percentage of the documents in `spam_data` are spam?\n",
    "\n",
    "*This function should return a float, the percent value (i.e. $ratio * 100$).*"
   ]
  },
  {
   "cell_type": "code",
   "execution_count": 3,
   "metadata": {
    "collapsed": true
   },
   "outputs": [],
   "source": [
    "def answer_one():\n",
    "    \n",
    "    answer = len(spam_data[spam_data['target'] == 1])/len(spam_data) *100\n",
    "    return answer"
   ]
  },
  {
   "cell_type": "code",
   "execution_count": 4,
   "metadata": {},
   "outputs": [
    {
     "data": {
      "text/plain": [
       "13.406317300789663"
      ]
     },
     "execution_count": 4,
     "metadata": {},
     "output_type": "execute_result"
    }
   ],
   "source": [
    "answer_one()"
   ]
  },
  {
   "cell_type": "markdown",
   "metadata": {},
   "source": [
    "### Question 2\n",
    "\n",
    "Fit the training data `X_train` using a Count Vectorizer with default parameters.\n",
    "\n",
    "What is the longest token in the vocabulary?\n",
    "\n",
    "*This function should return a string.*"
   ]
  },
  {
   "cell_type": "code",
   "execution_count": 5,
   "metadata": {
    "collapsed": true
   },
   "outputs": [],
   "source": [
    "from sklearn.feature_extraction.text import CountVectorizer\n",
    "\n",
    "def answer_two():\n",
    "    \n",
    "    from sklearn.feature_extraction.text import CountVectorizer\n",
    "    vect = CountVectorizer().fit(X_train)\n",
    "    answer = max(vect.get_feature_names(), key = len)\n",
    "    \n",
    "    return answer"
   ]
  },
  {
   "cell_type": "code",
   "execution_count": 6,
   "metadata": {},
   "outputs": [
    {
     "data": {
      "text/plain": [
       "'com1win150ppmx3age16subscription'"
      ]
     },
     "execution_count": 6,
     "metadata": {},
     "output_type": "execute_result"
    }
   ],
   "source": [
    "answer_two()"
   ]
  },
  {
   "cell_type": "markdown",
   "metadata": {},
   "source": [
    "### Question 3\n",
    "\n",
    "Fit and transform the training data `X_train` using a Count Vectorizer with default parameters.\n",
    "\n",
    "Next, fit a fit a multinomial Naive Bayes classifier model with smoothing `alpha=0.1`. Find the area under the curve (AUC) score using the transformed test data.\n",
    "\n",
    "*This function should return the AUC score as a float.*"
   ]
  },
  {
   "cell_type": "code",
   "execution_count": 7,
   "metadata": {
    "collapsed": true
   },
   "outputs": [],
   "source": [
    "from sklearn.feature_extraction.text import CountVectorizer\n",
    "from sklearn.naive_bayes import MultinomialNB\n",
    "from sklearn.metrics import roc_auc_score\n",
    "\n",
    "def answer_three():\n",
    "    vect = CountVectorizer()\n",
    "    X_train_vectorized = vect.fit_transform(X_train)\n",
    "    clfrNB = MultinomialNB(alpha = 0.1)\n",
    "    clfrNB.fit(X_train_vectorized, y_train)\n",
    "    \n",
    "    X_test_vectorized = vect.transform(X_test) # NOT fit_transform since it's fitted with train data before already\n",
    "    y_pred = clfrNB.predict(X_test_vectorized) \n",
    "    answer = roc_auc_score(y_test, y_pred)\n",
    "    \n",
    "    return answer"
   ]
  },
  {
   "cell_type": "code",
   "execution_count": 8,
   "metadata": {},
   "outputs": [
    {
     "data": {
      "text/plain": [
       "0.97208121827411165"
      ]
     },
     "execution_count": 8,
     "metadata": {},
     "output_type": "execute_result"
    }
   ],
   "source": [
    "answer_three()"
   ]
  },
  {
   "cell_type": "markdown",
   "metadata": {},
   "source": [
    "### Question 4\n",
    "\n",
    "Fit and transform the training data `X_train` using a Tfidf Vectorizer with default parameters.\n",
    "\n",
    "What 20 features have the smallest tf-idf and what 20 have the largest tf-idf?\n",
    "\n",
    "Put these features in a two series where each series is sorted by tf-idf value and then alphabetically by feature name. The index of the series should be the feature name, and the data should be the tf-idf.\n",
    "\n",
    "The series of 20 features with smallest tf-idfs should be sorted smallest tfidf first, the list of 20 features with largest tf-idfs should be sorted largest first. \n",
    "\n",
    "*This function should return a tuple of two series\n",
    "`(smallest tf-idfs series, largest tf-idfs series)`.*"
   ]
  },
  {
   "cell_type": "code",
   "execution_count": 112,
   "metadata": {},
   "outputs": [],
   "source": [
    "# For each feature compute first the maximum tf-idf value across all documents in X_train. \n",
    "# What 20 features have the smallest maximum tf-idf value and what 20 features have the largest maximum tf-idf value?\n",
    "\n",
    "from sklearn.feature_extraction.text import TfidfVectorizer\n",
    "\n",
    "def answer_four():\n",
    "    \n",
    "    tfidf = TfidfVectorizer().fit(X_train)\n",
    "    feature = np.array(tfidf.get_feature_names())\n",
    "    maxi = np.amax(tfidf.transform(X_train).toarray(), axis=0)\n",
    "    \n",
    "    df = pd.DataFrame({'feature': feature, 'maxi': maxi}).sort_values(by = ['maxi', 'feature'])\n",
    "    answer1 = df.iloc[0:20].values\n",
    "    df = pd.DataFrame({'feature': feature, 'maxi': maxi}).sort_values(by = ['maxi', 'feature'], ascending=[False, True])\n",
    "    answer2 = df.iloc[0:20].values\n",
    "    \n",
    "    return  answer1, answer2"
   ]
  },
  {
   "cell_type": "code",
   "execution_count": 113,
   "metadata": {},
   "outputs": [
    {
     "data": {
      "text/plain": [
       "(array([['aaniye', 0.0744745235430759],\n",
       "        ['athletic', 0.0744745235430759],\n",
       "        ['chef', 0.0744745235430759],\n",
       "        ['companion', 0.0744745235430759],\n",
       "        ['courageous', 0.0744745235430759],\n",
       "        ['dependable', 0.0744745235430759],\n",
       "        ['determined', 0.0744745235430759],\n",
       "        ['exterminator', 0.0744745235430759],\n",
       "        ['healer', 0.0744745235430759],\n",
       "        ['listener', 0.0744745235430759],\n",
       "        ['organizer', 0.0744745235430759],\n",
       "        ['pest', 0.0744745235430759],\n",
       "        ['psychiatrist', 0.0744745235430759],\n",
       "        ['psychologist', 0.0744745235430759],\n",
       "        ['pudunga', 0.0744745235430759],\n",
       "        ['stylist', 0.0744745235430759],\n",
       "        ['sympathetic', 0.0744745235430759],\n",
       "        ['venaam', 0.0744745235430759],\n",
       "        ['afternoons', 0.0912496110951344],\n",
       "        ['approaching', 0.0912496110951344]], dtype=object),\n",
       " array([['146tf150p', 1.0],\n",
       "        ['645', 1.0],\n",
       "        ['anything', 1.0],\n",
       "        ['anytime', 1.0],\n",
       "        ['beerage', 1.0],\n",
       "        ['done', 1.0],\n",
       "        ['er', 1.0],\n",
       "        ['havent', 1.0],\n",
       "        ['home', 1.0],\n",
       "        ['lei', 1.0],\n",
       "        ['nite', 1.0],\n",
       "        ['ok', 1.0],\n",
       "        ['okie', 1.0],\n",
       "        ['thank', 1.0],\n",
       "        ['thanx', 1.0],\n",
       "        ['too', 1.0],\n",
       "        ['where', 1.0],\n",
       "        ['yup', 1.0],\n",
       "        ['tick', 0.9801658993775793],\n",
       "        ['blank', 0.9327015774255514]], dtype=object))"
      ]
     },
     "execution_count": 113,
     "metadata": {},
     "output_type": "execute_result"
    }
   ],
   "source": [
    "answer_four()"
   ]
  },
  {
   "cell_type": "markdown",
   "metadata": {},
   "source": [
    "### Question 5\n",
    "\n",
    "Fit and transform the training data `X_train` using a Tfidf Vectorizer ignoring terms that have a document frequency strictly lower than **3**.\n",
    "\n",
    "Then fit a multinomial Naive Bayes classifier model with smoothing `alpha=0.1` and compute the area under the curve (AUC) score using the transformed test data.\n",
    "\n",
    "*This function should return the AUC score as a float.*"
   ]
  },
  {
   "cell_type": "code",
   "execution_count": 32,
   "metadata": {
    "collapsed": true
   },
   "outputs": [],
   "source": [
    "def answer_five():\n",
    "    from sklearn.feature_extraction.text import TfidfVectorizer\n",
    "    \n",
    "    tfidf = TfidfVectorizer(min_df=3).fit(X_train)\n",
    "    X_train_vectorized = tfidf.transform(X_train)\n",
    "    clfrNB = MultinomialNB(alpha = 0.1)\n",
    "    clfrNB.fit(X_train_vectorized, y_train)\n",
    "    \n",
    "    X_test_vectorized = tfidf.transform(X_test) # NOT fit_transform since it's fitted with train data before already\n",
    "    y_pred = clfrNB.predict(X_test_vectorized) \n",
    "    answer = roc_auc_score(y_test, y_pred)\n",
    "    \n",
    "    return answer"
   ]
  },
  {
   "cell_type": "code",
   "execution_count": 33,
   "metadata": {},
   "outputs": [
    {
     "data": {
      "text/plain": [
       "0.94162436548223349"
      ]
     },
     "execution_count": 33,
     "metadata": {},
     "output_type": "execute_result"
    }
   ],
   "source": [
    "answer_five()"
   ]
  },
  {
   "cell_type": "markdown",
   "metadata": {},
   "source": [
    "### Question 6\n",
    "\n",
    "What is the average length of documents (number of characters) for not spam and spam documents?\n",
    "\n",
    "*This function should return a tuple (average length not spam, average length spam).*"
   ]
  },
  {
   "cell_type": "code",
   "execution_count": 34,
   "metadata": {
    "collapsed": true
   },
   "outputs": [],
   "source": [
    "def answer_six():\n",
    "    \n",
    "    df = spam_data\n",
    "    df['length'] = [len(w) for w in df['text']]\n",
    "    \n",
    "    return (np.mean(df[df['target']==0]['length']), np.mean(df[df['target']==1]['length']))"
   ]
  },
  {
   "cell_type": "code",
   "execution_count": 35,
   "metadata": {},
   "outputs": [
    {
     "data": {
      "text/plain": [
       "(71.023626943005183, 138.8661311914324)"
      ]
     },
     "execution_count": 35,
     "metadata": {},
     "output_type": "execute_result"
    }
   ],
   "source": [
    "answer_six()"
   ]
  },
  {
   "cell_type": "markdown",
   "metadata": {},
   "source": [
    "<br>\n",
    "<br>\n",
    "The following function has been provided to help you combine new features into the training data:"
   ]
  },
  {
   "cell_type": "code",
   "execution_count": 36,
   "metadata": {
    "collapsed": true
   },
   "outputs": [],
   "source": [
    "def add_feature(X, feature_to_add):\n",
    "    \"\"\"\n",
    "    Returns sparse feature matrix with added feature.\n",
    "    feature_to_add can also be a list of features.\n",
    "    \"\"\"\n",
    "    from scipy.sparse import csr_matrix, hstack\n",
    "    return hstack([X, csr_matrix(feature_to_add).T], 'csr')"
   ]
  },
  {
   "cell_type": "markdown",
   "metadata": {},
   "source": [
    "### Question 7\n",
    "\n",
    "Fit and transform the training data X_train using a Tfidf Vectorizer ignoring terms that have a document frequency strictly lower than **5**.\n",
    "\n",
    "Using this document-term matrix and an additional feature, **the length of document (number of characters)**, fit a Support Vector Classification model with regularization `C=10000`. Then compute the area under the curve (AUC) score using the transformed test data.\n",
    "\n",
    "*This function should return the AUC score as a float.*"
   ]
  },
  {
   "cell_type": "code",
   "execution_count": 37,
   "metadata": {
    "collapsed": true
   },
   "outputs": [],
   "source": [
    "from sklearn.svm import SVC\n",
    "\n",
    "def answer_seven():\n",
    "    \n",
    "    df = pd.DataFrame(X_train)\n",
    "    df['length'] = [len(w) for w in X_train]\n",
    "    \n",
    "    from sklearn.feature_extraction.text import TfidfVectorizer\n",
    "    \n",
    "    tfidf = TfidfVectorizer(min_df=5).fit(df.text)\n",
    "    X_train_vectorized = tfidf.transform(df.text)\n",
    "    X_train_vectorized = add_feature(X_train_vectorized, df.length)\n",
    "\n",
    "    clfrSVC = SVC(C = 10000)\n",
    "    clfrSVC.fit(X_train_vectorized, y_train)\n",
    "    \n",
    "    df = pd.DataFrame(X_test)\n",
    "    df['length'] = [len(w) for w in X_test]\n",
    "    \n",
    "    X_test_vectorized = tfidf.transform(df.text)\n",
    "    X_test_vectorized = add_feature(X_test_vectorized, df.length)\n",
    "    y_pred = clfrSVC.predict(X_test_vectorized) \n",
    "    answer = roc_auc_score(y_test, y_pred)\n",
    "    \n",
    "    return answer"
   ]
  },
  {
   "cell_type": "code",
   "execution_count": 38,
   "metadata": {},
   "outputs": [
    {
     "data": {
      "text/plain": [
       "0.95813668234215565"
      ]
     },
     "execution_count": 38,
     "metadata": {},
     "output_type": "execute_result"
    }
   ],
   "source": [
    "answer_seven()"
   ]
  },
  {
   "cell_type": "markdown",
   "metadata": {},
   "source": [
    "### Question 8\n",
    "\n",
    "What is the average number of digits per document for not spam and spam documents?\n",
    "\n",
    "*This function should return a tuple (average # digits not spam, average # digits spam).*"
   ]
  },
  {
   "cell_type": "code",
   "execution_count": 39,
   "metadata": {
    "collapsed": true
   },
   "outputs": [],
   "source": [
    "def answer_eight():\n",
    "    df = spam_data\n",
    "    df['digits'] = df['text'].str.findall('\\d')\n",
    "    df['length'] = [len(w) for w in df['digits']]\n",
    "    return (np.mean(df[df['target']==0]['length']), np.mean(df[df['target']==1]['length']))"
   ]
  },
  {
   "cell_type": "code",
   "execution_count": 40,
   "metadata": {},
   "outputs": [
    {
     "data": {
      "text/plain": [
       "(0.29927461139896372, 15.759036144578314)"
      ]
     },
     "execution_count": 40,
     "metadata": {},
     "output_type": "execute_result"
    }
   ],
   "source": [
    "answer_eight()"
   ]
  },
  {
   "cell_type": "markdown",
   "metadata": {},
   "source": [
    "### Question 9\n",
    "\n",
    "Fit and transform the training data `X_train` using a Tfidf Vectorizer ignoring terms that have a document frequency strictly lower than **5** and using **word n-grams from n=1 to n=3** (unigrams, bigrams, and trigrams).\n",
    "\n",
    "Using this document-term matrix and the following additional features:\n",
    "* the length of document (number of characters)\n",
    "* **number of digits per document**\n",
    "\n",
    "fit a Logistic Regression model with regularization `C=100`. Then compute the area under the curve (AUC) score using the transformed test data.\n",
    "\n",
    "*This function should return the AUC score as a float.*"
   ]
  },
  {
   "cell_type": "code",
   "execution_count": 41,
   "metadata": {
    "collapsed": true
   },
   "outputs": [],
   "source": [
    "from sklearn.linear_model import LogisticRegression\n",
    "\n",
    "def answer_nine():\n",
    "    df = pd.DataFrame(X_train)\n",
    "    df['length'] = [len(w) for w in X_train]\n",
    "    df['digit'] = df['text'].str.findall('\\d')\n",
    "    df['digits'] = [len(w) for w in df['digit']]\n",
    "    \n",
    "    from sklearn.feature_extraction.text import TfidfVectorizer\n",
    "    \n",
    "    tfidf = TfidfVectorizer(min_df=5, ngram_range=(1,3)).fit(df.text)\n",
    "    X_train_vectorized = tfidf.transform(df.text)\n",
    "    X_train_vectorized = add_feature(X_train_vectorized, df.length)\n",
    "    X_train_vectorized = add_feature(X_train_vectorized, df.digits)\n",
    "\n",
    "    clfrLR = LogisticRegression(C = 100)\n",
    "    clfrLR.fit(X_train_vectorized, y_train)\n",
    "    \n",
    "    df = pd.DataFrame(X_test)\n",
    "    df['length'] = [len(w) for w in X_test]\n",
    "    df['digit'] = df['text'].str.findall('\\d')\n",
    "    df['digits'] = [len(w) for w in df['digit']]\n",
    "    \n",
    "    X_test_vectorized = tfidf.transform(df.text)\n",
    "    X_test_vectorized = add_feature(X_test_vectorized, df.length)\n",
    "    X_test_vectorized = add_feature(X_test_vectorized, df.digits)\n",
    "    y_pred = clfrLR.predict(X_test_vectorized) \n",
    "    answer = roc_auc_score(y_test, y_pred)\n",
    "\n",
    "    return answer"
   ]
  },
  {
   "cell_type": "code",
   "execution_count": 42,
   "metadata": {},
   "outputs": [
    {
     "data": {
      "text/plain": [
       "0.96533283533945646"
      ]
     },
     "execution_count": 42,
     "metadata": {},
     "output_type": "execute_result"
    }
   ],
   "source": [
    "answer_nine()"
   ]
  },
  {
   "cell_type": "markdown",
   "metadata": {},
   "source": [
    "### Question 10\n",
    "\n",
    "What is the average number of non-word characters (anything other than a letter, digit or underscore) per document for not spam and spam documents?\n",
    "\n",
    "*Hint: Use `\\w` and `\\W` character classes*\n",
    "\n",
    "*This function should return a tuple (average # non-word characters not spam, average # non-word characters spam).*"
   ]
  },
  {
   "cell_type": "code",
   "execution_count": 43,
   "metadata": {
    "collapsed": true
   },
   "outputs": [],
   "source": [
    "def answer_ten():\n",
    "    \n",
    "    df = spam_data\n",
    "    df['nonword'] = df['text'].str.findall('\\W')\n",
    "    df['length'] = [len(w) for w in df['nonword']]\n",
    "    return (np.mean(df[df['target']==0]['length']), np.mean(df[df['target']==1]['length']))\n"
   ]
  },
  {
   "cell_type": "code",
   "execution_count": 44,
   "metadata": {},
   "outputs": [
    {
     "data": {
      "text/plain": [
       "(17.291813471502589, 29.041499330655956)"
      ]
     },
     "execution_count": 44,
     "metadata": {},
     "output_type": "execute_result"
    }
   ],
   "source": [
    "answer_ten()"
   ]
  },
  {
   "cell_type": "markdown",
   "metadata": {},
   "source": [
    "### Question 11\n",
    "\n",
    "Fit and transform the training data X_train using a Count Vectorizer ignoring terms that have a document frequency strictly lower than **5** and using **character n-grams from n=2 to n=5.**\n",
    "\n",
    "To tell Count Vectorizer to use character n-grams pass in `analyzer='char_wb'` which creates character n-grams only from text inside word boundaries. This should make the model more robust to spelling mistakes.\n",
    "\n",
    "Using this document-term matrix and the following additional features:\n",
    "* the length of document (number of characters)\n",
    "* number of digits per document\n",
    "* **number of non-word characters (anything other than a letter, digit or underscore.)**\n",
    "\n",
    "fit a Logistic Regression model with regularization C=100. Then compute the area under the curve (AUC) score using the transformed test data.\n",
    "\n",
    "Also **find the 10 smallest and 10 largest coefficients from the model** and return them along with the AUC score in a tuple.\n",
    "\n",
    "The list of 10 smallest coefficients should be sorted smallest first, the list of 10 largest coefficients should be sorted largest first.\n",
    "\n",
    "The three features that were added to the document term matrix should have the following names should they appear in the list of coefficients:\n",
    "['length_of_doc', 'digit_count', 'non_word_char_count']\n",
    "\n",
    "*This function should return a tuple `(AUC score as a float, smallest coefs list, largest coefs list)`.*"
   ]
  },
  {
   "cell_type": "code",
   "execution_count": 45,
   "metadata": {
    "collapsed": true
   },
   "outputs": [],
   "source": [
    "def answer_eleven():\n",
    "    \n",
    "    df = pd.DataFrame(X_train)\n",
    "    df['length'] = [len(w) for w in X_train]\n",
    "    df['digit'] = df['text'].str.findall('\\d')\n",
    "    df['nonword'] = df['text'].str.findall('\\W')\n",
    "    df['digits'] = [len(w) for w in df['digit']]\n",
    "    df['nonwords'] = [len(w) for w in df['nonword']]\n",
    "    \n",
    "    \n",
    "    vect = CountVectorizer(min_df=5, ngram_range=(2,5), analyzer='char_wb').fit(df.text)\n",
    "    X_train_vectorized = vect.transform(df.text)\n",
    "    X_train_vectorized = add_feature(X_train_vectorized, df.length)\n",
    "    X_train_vectorized = add_feature(X_train_vectorized, df.digits)\n",
    "    X_train_vectorized = add_feature(X_train_vectorized, df.nonwords)\n",
    "\n",
    "    clfrLR = LogisticRegression(C = 100)\n",
    "    clfrLR.fit(X_train_vectorized, y_train)\n",
    "    \n",
    "    small = np.sort(clfrLR.coef_)[0][:10]\n",
    "    large = np.sort(clfrLR.coef_)[0][-10:]\n",
    "    \n",
    "    df = pd.DataFrame(X_test)\n",
    "    df['length'] = [len(w) for w in X_test]\n",
    "    df['digit'] = df['text'].str.findall('\\d')\n",
    "    df['nonword'] = df['text'].str.findall('\\W')\n",
    "    df['digits'] = [len(w) for w in df['digit']]\n",
    "    df['nonwords'] = [len(w) for w in df['nonword']]\n",
    "    \n",
    "    X_test_vectorized = vect.transform(df.text)\n",
    "    X_test_vectorized = add_feature(X_test_vectorized, df.length)\n",
    "    X_test_vectorized = add_feature(X_test_vectorized, df.digits)\n",
    "    X_test_vectorized = add_feature(X_test_vectorized, df.nonwords)\n",
    "    \n",
    "    y_pred = clfrLR.predict(X_test_vectorized) \n",
    "    answer = roc_auc_score(y_test, y_pred)\n",
    "\n",
    "\n",
    "    return answer, small, large"
   ]
  },
  {
   "cell_type": "code",
   "execution_count": 46,
   "metadata": {},
   "outputs": [
    {
     "data": {
      "text/plain": [
       "(0.97885931107074342,\n",
       " array([-0.86975346, -0.86088296, -0.67698172, -0.66700364, -0.6149007 ,\n",
       "        -0.57958955, -0.53507445, -0.50576581, -0.49850657, -0.49096048]),\n",
       " array([ 0.50264409,  0.50867081,  0.51609607,  0.51786805,  0.52035143,\n",
       "         0.52148697,  0.53876612,  0.541483  ,  0.59777832,  1.21223044]))"
      ]
     },
     "execution_count": 46,
     "metadata": {},
     "output_type": "execute_result"
    }
   ],
   "source": [
    "answer_eleven()"
   ]
  },
  {
   "cell_type": "code",
   "execution_count": null,
   "metadata": {
    "collapsed": true
   },
   "outputs": [],
   "source": []
  }
 ],
 "metadata": {
  "coursera": {
   "course_slug": "python-text-mining",
   "graded_item_id": "Pn19K",
   "launcher_item_id": "y1juS",
   "part_id": "ctlgo"
  },
  "kernelspec": {
   "display_name": "Python 3",
   "language": "python",
   "name": "python3"
  },
  "language_info": {
   "codemirror_mode": {
    "name": "ipython",
    "version": 3
   },
   "file_extension": ".py",
   "mimetype": "text/x-python",
   "name": "python",
   "nbconvert_exporter": "python",
   "pygments_lexer": "ipython3",
   "version": "3.6.2"
  }
 },
 "nbformat": 4,
 "nbformat_minor": 2
}
